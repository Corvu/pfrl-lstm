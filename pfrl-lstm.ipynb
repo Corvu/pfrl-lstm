{
 "cells": [
  {
   "cell_type": "markdown",
   "id": "96593329",
   "metadata": {},
   "source": [
    "# Training RL agent with LSTM"
   ]
  },
  {
   "cell_type": "markdown",
   "id": "c817e080",
   "metadata": {},
   "source": [
    "## Training an agent using PPO (normal and recurrent)"
   ]
  },
  {
   "cell_type": "code",
   "execution_count": 1,
   "id": "470830d6",
   "metadata": {},
   "outputs": [],
   "source": [
    "import pfrl\n",
    "import torch\n",
    "import torch.nn\n",
    "import gym\n",
    "import numpy\n",
    "\n",
    "import gym_minigrid\n",
    "import gym_minigrid.wrappers\n",
    "\n",
    "import matplotlib.pyplot as plt"
   ]
  },
  {
   "cell_type": "code",
   "execution_count": 2,
   "id": "b9345905",
   "metadata": {},
   "outputs": [
    {
     "name": "stdout",
     "output_type": "stream",
     "text": [
      "observation space (shape): (7, 7, 3)\n",
      "action space (shape): Discrete(7)\n",
      "reward: 0\n",
      "done: False\n",
      "info: {}\n"
     ]
    }
   ],
   "source": [
    "#env = gym.make('CartPole-v0')\n",
    "env = gym.make('MiniGrid-MemoryS11-v0')\n",
    "env = gym_minigrid.wrappers.ImgObsWrapper(env) # Get rid of the 'mission' field\n",
    "#env = gym_minigrid.wrappers.FlatObsWrapper(env)\n",
    "\n",
    "print('observation space (shape):', env.observation_space.shape)\n",
    "print('action space (shape):', env.action_space)\n",
    "\n",
    "obs = env.reset()\n",
    "\n",
    "action = env.action_space.sample()\n",
    "obs, r, done, info = env.step(action)\n",
    "print('reward:', r)\n",
    "print('done:', done)\n",
    "print('info:', info)\n",
    "\n",
    "# Uncomment to open a GUI window rendering the current state of the environment\n",
    "# env.render()"
   ]
  },
  {
   "cell_type": "code",
   "execution_count": 3,
   "id": "780c0e89",
   "metadata": {},
   "outputs": [
    {
     "data": {
      "text/plain": [
       "<matplotlib.image.AxesImage at 0x1d283b22ec8>"
      ]
     },
     "execution_count": 3,
     "metadata": {},
     "output_type": "execute_result"
    },
    {
     "data": {
      "image/png": "[encoded data removed]",
      "text/plain": [
       "<Figure size 432x288 with 1 Axes>"
      ]
     },
     "metadata": {
      "needs_background": "light"
     },
     "output_type": "display_data"
    }
   ],
   "source": [
    "img = env.render(\"rgb_array\")\n",
    "plt.imshow(img)"
   ]
  },
  {
   "cell_type": "code",
   "execution_count": 4,
   "id": "75434547",
   "metadata": {},
   "outputs": [],
   "source": [
    "obs_size = env.observation_space.low.size\n",
    "n_actions = env.action_space.n"
   ]
  },
  {
   "cell_type": "markdown",
   "id": "622496b6",
   "metadata": {},
   "source": [
    "Create an approximator - a policy-value network (for recurrent must be a cubclass of pfrl.nn.Recurrent)"
   ]
  },
  {
   "cell_type": "code",
   "execution_count": 5,
   "id": "30f04ce0",
   "metadata": {},
   "outputs": [],
   "source": [
    "pv_network = torch.nn.Sequential(\n",
    "    torch.nn.Linear(obs_size, 128),\n",
    "    torch.nn.Tanh(),\n",
    "    torch.nn.Linear(128, 128),\n",
    "    torch.nn.Tanh(),\n",
    "    pfrl.nn.Branched(\n",
    "        torch.nn.Sequential(\n",
    "            torch.nn.Linear(128, n_actions),\n",
    "            pfrl.policies.SoftmaxCategoricalHead()\n",
    "        ),\n",
    "        torch.nn.Linear(128, 1)\n",
    "    )\n",
    ")"
   ]
  },
  {
   "cell_type": "code",
   "execution_count": 6,
   "id": "acd0c858",
   "metadata": {},
   "outputs": [],
   "source": [
    "pv_network_rec = pfrl.nn.recurrent_sequential.RecurrentSequential(\n",
    "    torch.nn.Linear(obs_size, 128),\n",
    "    torch.nn.Tanh(),\n",
    "    torch.nn.Linear(128, 128),\n",
    "    torch.nn.Tanh(),\n",
    "    torch.nn.LSTM(128, 128),\n",
    "    pfrl.nn.Branched(\n",
    "        torch.nn.Sequential(\n",
    "            torch.nn.Linear(128, 128),\n",
    "            torch.nn.Tanh(),\n",
    "            torch.nn.Linear(128, n_actions),\n",
    "            pfrl.policies.SoftmaxCategoricalHead()\n",
    "        ),\n",
    "        torch.nn.Sequential(\n",
    "            torch.nn.Linear(128, 128),\n",
    "            torch.nn.Tanh(),\n",
    "            torch.nn.Linear(128, 1)\n",
    "        )\n",
    "    )\n",
    ")"
   ]
  },
  {
   "cell_type": "markdown",
   "id": "4664ffc3",
   "metadata": {},
   "source": [
    "Create an optimizer"
   ]
  },
  {
   "cell_type": "code",
   "execution_count": 7,
   "id": "6dfe5e0b",
   "metadata": {},
   "outputs": [],
   "source": [
    "optimizer = torch.optim.Adam(pv_network.parameters(), eps=1e-5)"
   ]
  },
  {
   "cell_type": "code",
   "execution_count": 8,
   "id": "ec99300c",
   "metadata": {},
   "outputs": [],
   "source": [
    "optimizer_rec = torch.optim.Adam(pv_network_rec.parameters(), eps=1e-5)"
   ]
  },
  {
   "cell_type": "markdown",
   "id": "3f4e63eb",
   "metadata": {},
   "source": [
    "Some preparations"
   ]
  },
  {
   "cell_type": "code",
   "execution_count": 9,
   "id": "63294609",
   "metadata": {},
   "outputs": [],
   "source": [
    "# Set the discount factor that discounts future rewards.\n",
    "gamma = 0.99\n",
    "\n",
    "# Use epsilon-greedy for exploration\n",
    "explorer = pfrl.explorers.ConstantEpsilonGreedy(\n",
    "    epsilon=0.3, random_action_func=env.action_space.sample\n",
    ")\n",
    "\n",
    "# Observations in MiniGrid are numpy.uint8, but PyTorch only\n",
    "# accepts numpy.float32 by default, tehrefore we specify\n",
    "# a converter as a feature extractor function phi.\n",
    "phi = lambda x: x.astype(numpy.float32, copy=False)\n",
    "\n",
    "# Set the device id to use GPU. To use CPU only, set it to -1.\n",
    "gpu = -1"
   ]
  },
  {
   "cell_type": "markdown",
   "id": "18de8a62",
   "metadata": {},
   "source": [
    "Prepare PPO agents "
   ]
  },
  {
   "cell_type": "code",
   "execution_count": 10,
   "id": "e4367f91",
   "metadata": {},
   "outputs": [],
   "source": [
    "agent = pfrl.agents.PPO(\n",
    "    pv_network,\n",
    "    optimizer,\n",
    "    recurrent=False,\n",
    "    phi=phi,\n",
    "    gamma=gamma\n",
    ")"
   ]
  },
  {
   "cell_type": "code",
   "execution_count": 11,
   "id": "b8c14e5a",
   "metadata": {},
   "outputs": [],
   "source": [
    "agent_rec = pfrl.agents.PPO(\n",
    "    pv_network_rec,\n",
    "    optimizer_rec,\n",
    "    recurrent=True,\n",
    "    phi=phi,\n",
    "    gamma=gamma\n",
    ")"
   ]
  },
  {
   "cell_type": "markdown",
   "id": "d3acfc68",
   "metadata": {},
   "source": [
    "Train normal agent"
   ]
  },
  {
   "cell_type": "code",
   "execution_count": 12,
   "id": "81c00903",
   "metadata": {},
   "outputs": [
    {
     "name": "stdout",
     "output_type": "stream",
     "text": [
      "episode: 100 R: 0\n",
      "episode: 200 R: 0.976198347107438\n",
      "episode: 300 R: 0\n",
      "episode: 400 R: 0\n",
      "episode: 500 R: 0\n",
      "episode: 600 R: 0\n",
      "episode: 700 R: 0\n",
      "episode: 800 R: 0\n",
      "episode: 900 R: 0\n",
      "episode: 1000 R: 0.9866115702479339\n",
      "statistics: [('average_value', 0.47324914), ('average_entropy', 1.509029), ('average_value_loss', 0.09772121317684651), ('average_policy_loss', -0.018263580589555205), ('n_updates', 4800), ('explained_variance', -0.005419984917829579)]\n",
      "episode: 1100 R: 0\n",
      "episode: 1200 R: 0\n",
      "episode: 1300 R: 0.9806611570247934\n",
      "episode: 1400 R: 0.9866115702479339\n",
      "episode: 1500 R: 0.9836363636363636\n",
      "episode: 1600 R: 0.9598347107438017\n",
      "episode: 1700 R: 0\n",
      "episode: 1800 R: 0.9776859504132231\n",
      "episode: 1900 R: 0.9895867768595041\n",
      "episode: 2000 R: 0\n",
      "statistics: [('average_value', 0.42121455), ('average_entropy', 1.4223869), ('average_value_loss', 0.11399808302521705), ('average_policy_loss', -0.016287857950665056), ('n_updates', 7040), ('explained_variance', -0.028229709180787044)]\n",
      "episode: 2100 R: 0.9836363636363636\n",
      "episode: 2200 R: 0.9821487603305785\n",
      "episode: 2300 R: 0\n",
      "episode: 2400 R: 0\n",
      "episode: 2500 R: 0\n",
      "episode: 2600 R: 0.9821487603305785\n",
      "episode: 2700 R: 0\n",
      "episode: 2800 R: 0\n",
      "episode: 2900 R: 0.9821487603305785\n",
      "episode: 3000 R: 0\n",
      "statistics: [('average_value', 0.43674144), ('average_entropy', 1.2907146), ('average_value_loss', 0.11991408824920655), ('average_policy_loss', -0.013745508529245854), ('n_updates', 9280), ('explained_variance', -0.044781025986987855)]\n",
      "episode: 3100 R: 0.9925619834710744\n",
      "episode: 3200 R: 0.9895867768595041\n",
      "episode: 3300 R: 0\n",
      "episode: 3400 R: 0\n",
      "episode: 3500 R: 0\n",
      "episode: 3600 R: 0\n",
      "episode: 3700 R: 0\n",
      "episode: 3800 R: 0\n",
      "episode: 3900 R: 0.9821487603305785\n",
      "episode: 4000 R: 0.976198347107438\n",
      "statistics: [('average_value', 0.4134325), ('average_entropy', 1.1843843), ('average_value_loss', 0.11871948480606079), ('average_policy_loss', -0.009049399327486753), ('n_updates', 11200), ('explained_variance', -0.009839576688537077)]\n",
      "episode: 4100 R: 0.9821487603305785\n",
      "episode: 4200 R: 0\n",
      "episode: 4300 R: 0\n",
      "episode: 4400 R: 0\n",
      "episode: 4500 R: 0.9925619834710744\n",
      "episode: 4600 R: 0\n",
      "episode: 4700 R: 0.9836363636363636\n",
      "episode: 4800 R: 0\n",
      "episode: 4900 R: 0.9821487603305785\n",
      "episode: 5000 R: 0\n",
      "statistics: [('average_value', 0.4381123), ('average_entropy', 1.0072212), ('average_value_loss', 0.13815501652657985), ('average_policy_loss', -0.008741382341831923), ('n_updates', 13120), ('explained_variance', 0.005207260628530053)]\n",
      "episode: 5100 R: 0.9895867768595041\n",
      "episode: 5200 R: 0.9137190082644628\n",
      "episode: 5300 R: 0.9776859504132231\n",
      "episode: 5400 R: 0\n",
      "episode: 5500 R: 0\n",
      "episode: 5600 R: 0.9895867768595041\n",
      "episode: 5700 R: 0.9821487603305785\n",
      "episode: 5800 R: 0.9821487603305785\n",
      "episode: 5900 R: 0.9836363636363636\n",
      "episode: 6000 R: 0\n",
      "statistics: [('average_value', 0.4620574), ('average_entropy', 1.0081192), ('average_value_loss', 0.12456498079001904), ('average_policy_loss', -0.01426296278834343), ('n_updates', 14720), ('explained_variance', -0.016321136750467424)]\n",
      "episode: 6100 R: 0\n",
      "episode: 6200 R: 0\n",
      "episode: 6300 R: 0\n",
      "episode: 6400 R: 0\n",
      "episode: 6500 R: 0.9925619834710744\n",
      "episode: 6600 R: 0.9732231404958678\n",
      "episode: 6700 R: 0\n",
      "episode: 6800 R: 0\n",
      "episode: 6900 R: 0\n",
      "episode: 7000 R: 0\n",
      "statistics: [('average_value', 0.4723143), ('average_entropy', 0.9891154), ('average_value_loss', 0.12308089308440685), ('average_policy_loss', -0.014931535683572292), ('n_updates', 16320), ('explained_variance', 0.013151938158646348)]\n",
      "episode: 7100 R: 0.9955371900826446\n",
      "episode: 7200 R: 0.9776859504132231\n",
      "episode: 7300 R: 0.9955371900826446\n",
      "episode: 7400 R: 0.9836363636363636\n",
      "episode: 7500 R: 0.9851239669421488\n",
      "episode: 7600 R: 0.9910743801652893\n",
      "episode: 7700 R: 0\n",
      "episode: 7800 R: 0\n",
      "episode: 7900 R: 0\n",
      "episode: 8000 R: 0.9910743801652893\n",
      "statistics: [('average_value', 0.49544683), ('average_entropy', 0.8569444), ('average_value_loss', 0.14375214509665965), ('average_policy_loss', -0.00813496601767838), ('n_updates', 17920), ('explained_variance', -0.02349333827436695)]\n",
      "episode: 8100 R: 0.9806611570247934\n",
      "episode: 8200 R: 0.9910743801652893\n",
      "episode: 8300 R: 0.9940495867768595\n",
      "episode: 8400 R: 0\n",
      "episode: 8500 R: 0\n",
      "episode: 8600 R: 0\n",
      "episode: 8700 R: 0.9940495867768595\n",
      "episode: 8800 R: 0\n",
      "episode: 8900 R: 0\n",
      "episode: 9000 R: 0\n",
      "statistics: [('average_value', 0.40961626), ('average_entropy', 0.7702982), ('average_value_loss', 0.15000900521874427), ('average_policy_loss', -0.009850711822509765), ('n_updates', 19200), ('explained_variance', -0.008224034270016167)]\n",
      "episode: 9100 R: 0.988099173553719\n",
      "episode: 9200 R: 0.9940495867768595\n",
      "episode: 9300 R: 0.9895867768595041\n",
      "episode: 9400 R: 0.9657851239669422\n",
      "episode: 9500 R: 0\n",
      "episode: 9600 R: 0.976198347107438\n",
      "episode: 9700 R: 0\n",
      "episode: 9800 R: 0.9925619834710744\n",
      "episode: 9900 R: 0.9866115702479339\n",
      "episode: 10000 R: 0\n",
      "statistics: [('average_value', 0.45838696), ('average_entropy', 0.99407583), ('average_value_loss', 0.14613383889198303), ('average_policy_loss', -0.015101687312126159), ('n_updates', 20480), ('explained_variance', -0.0020024653987338326)]\n",
      "Finished.\n"
     ]
    }
   ],
   "source": [
    "n_episodes = 10000\n",
    "max_episode_len = 200\n",
    "for i in range(1, n_episodes + 1):\n",
    "    obs = env.reset()\n",
    "    obs = obs.flatten()\n",
    "    R = 0  # return (sum of rewards)\n",
    "    t = 0  # time step\n",
    "    while True:\n",
    "        # Uncomment to watch the behavior in a GUI window\n",
    "        # env.render()\n",
    "        action = agent.act(obs)\n",
    "        obs, reward, done, _ = env.step(action)\n",
    "        obs = obs.flatten()\n",
    "        R += reward\n",
    "        t += 1\n",
    "        reset = t == max_episode_len\n",
    "        agent.observe(obs, reward, done, reset)\n",
    "        if done or reset:\n",
    "            break\n",
    "    if i % 100 == 0:\n",
    "        print('episode:', i, 'R:', R)\n",
    "    if i % 1000 == 0:\n",
    "        print('statistics:', agent.get_statistics())\n",
    "print('Finished.')"
   ]
  },
  {
   "cell_type": "markdown",
   "id": "35b8713d",
   "metadata": {},
   "source": [
    "Test normal agent (no exploration)"
   ]
  },
  {
   "cell_type": "code",
   "execution_count": 13,
   "id": "eca898f8",
   "metadata": {},
   "outputs": [
    {
     "name": "stdout",
     "output_type": "stream",
     "text": [
      "evaluation episode: 0 R: 0.9583471074380165\n",
      "evaluation episode: 1 R: 0\n",
      "evaluation episode: 2 R: 0.9851239669421488\n",
      "evaluation episode: 3 R: 0.9866115702479339\n",
      "evaluation episode: 4 R: 0\n",
      "evaluation episode: 5 R: 0.9866115702479339\n",
      "evaluation episode: 6 R: 0\n",
      "evaluation episode: 7 R: 0.9702479338842975\n",
      "evaluation episode: 8 R: 0.9895867768595041\n",
      "evaluation episode: 9 R: 0\n"
     ]
    }
   ],
   "source": [
    "with agent.eval_mode():\n",
    "    for i in range(10):\n",
    "        obs = env.reset()\n",
    "        obs = obs.flatten()\n",
    "        R = 0\n",
    "        t = 0\n",
    "        while True:\n",
    "            # Uncomment to watch the behavior in a GUI window\n",
    "            # env.render()\n",
    "            action = agent.act(obs)\n",
    "            obs, r, done, _ = env.step(action)\n",
    "            obs = obs.flatten()\n",
    "            R += r\n",
    "            t += 1\n",
    "            reset = t == 200\n",
    "            agent.observe(obs, r, done, reset)\n",
    "            if done or reset:\n",
    "                break\n",
    "        print('evaluation episode:', i, 'R:', R)"
   ]
  },
  {
   "cell_type": "markdown",
   "id": "a6504efe",
   "metadata": {},
   "source": [
    "Train agent with recurrent policy-value network"
   ]
  },
  {
   "cell_type": "code",
   "execution_count": 14,
   "id": "2afef6d0",
   "metadata": {
    "scrolled": false
   },
   "outputs": [
    {
     "name": "stdout",
     "output_type": "stream",
     "text": [
      "episode: 100 R: 0\n",
      "episode: 200 R: 0\n",
      "episode: 300 R: 0.9598347107438017\n",
      "episode: 400 R: 0\n",
      "episode: 500 R: 0.9419834710743802\n",
      "episode: 600 R: 0\n",
      "episode: 700 R: 0\n",
      "episode: 800 R: 0.9836363636363636\n",
      "episode: 900 R: 0.9702479338842975\n",
      "episode: 1000 R: 0\n",
      "statistics: [('average_value', 0.41937178), ('average_entropy', 1.2866253), ('average_value_loss', 0.030587906455621122), ('average_policy_loss', -0.0954683216754347), ('n_updates', 7040), ('explained_variance', -0.2726438094525101)]\n",
      "episode: 1100 R: 0.9583471074380165\n",
      "episode: 1200 R: 0\n",
      "episode: 1300 R: 0.9940495867768595\n",
      "episode: 1400 R: 0.9494214876033058\n",
      "episode: 1500 R: 0\n",
      "episode: 1600 R: 0\n",
      "episode: 1700 R: 0\n",
      "episode: 1800 R: 0\n",
      "episode: 1900 R: 0\n",
      "episode: 2000 R: 0.9628099173553719\n",
      "statistics: [('average_value', 0.44952422), ('average_entropy', 1.1103649), ('average_value_loss', 0.03230734393233434), ('average_policy_loss', -0.08558076874352992), ('n_updates', 12160), ('explained_variance', 0.01298658143137088)]\n",
      "episode: 2100 R: 0\n",
      "episode: 2200 R: 0.9821487603305785\n",
      "episode: 2300 R: 0\n",
      "episode: 2400 R: 0.855702479338843\n",
      "episode: 2500 R: 0.9687603305785124\n",
      "episode: 2600 R: 0.9851239669421488\n",
      "episode: 2700 R: 0\n",
      "episode: 2800 R: 0.9821487603305785\n",
      "episode: 2900 R: 0\n",
      "episode: 3000 R: 0.9717355371900827\n",
      "statistics: [('average_value', 0.3531426), ('average_entropy', 0.9440408), ('average_value_loss', 0.04275246824836358), ('average_policy_loss', -0.07962296106852591), ('n_updates', 16960), ('explained_variance', -0.08111022230974907)]\n",
      "episode: 3100 R: 0.9672727272727273\n",
      "episode: 3200 R: 0.9553719008264463\n",
      "episode: 3300 R: 0\n",
      "episode: 3400 R: 0.9553719008264463\n",
      "episode: 3500 R: 0.9717355371900827\n",
      "episode: 3600 R: 0\n",
      "episode: 3700 R: 0\n",
      "episode: 3800 R: 0.9345454545454546\n",
      "episode: 3900 R: 0\n",
      "episode: 4000 R: 0\n",
      "statistics: [('average_value', 0.41683728), ('average_entropy', 0.8700343), ('average_value_loss', 0.04557751629501581), ('average_policy_loss', -0.07740042331628501), ('n_updates', 22080), ('explained_variance', -0.11934242293395725)]\n",
      "episode: 4100 R: 0\n",
      "episode: 4200 R: 0.9494214876033058\n",
      "episode: 4300 R: 0.9613223140495868\n",
      "episode: 4400 R: 0.8973553719008265\n",
      "episode: 4500 R: 0.9360330578512397\n",
      "episode: 4600 R: 0\n",
      "episode: 4700 R: 0\n",
      "episode: 4800 R: 0\n",
      "episode: 4900 R: 0.9538842975206612\n",
      "episode: 5000 R: 0.9375206611570248\n",
      "statistics: [('average_value', 0.45042613), ('average_entropy', 0.87156725), ('average_value_loss', 0.05322062088176608), ('average_policy_loss', -0.07746655466035009), ('n_updates', 26560), ('explained_variance', -0.12514129097269766)]\n",
      "episode: 5100 R: 0\n",
      "episode: 5200 R: 0\n",
      "episode: 5300 R: 0.9687603305785124\n",
      "episode: 5400 R: 0\n",
      "episode: 5500 R: 0.976198347107438\n",
      "episode: 5600 R: 0.9390082644628099\n",
      "episode: 5700 R: 0\n",
      "episode: 5800 R: 0.9776859504132231\n",
      "episode: 5900 R: 0.9791735537190083\n",
      "episode: 6000 R: 0.9404958677685951\n",
      "statistics: [('average_value', 0.3794452), ('average_entropy', 0.89719737), ('average_value_loss', 0.022109763415064664), ('average_policy_loss', -0.0842820452246815), ('n_updates', 32320), ('explained_variance', -0.04035646434731932)]\n",
      "episode: 6100 R: 0\n",
      "episode: 6200 R: 0.9821487603305785\n",
      "episode: 6300 R: 0.9613223140495868\n",
      "episode: 6400 R: 0.9166942148760331\n",
      "episode: 6500 R: 0\n",
      "episode: 6600 R: 0\n",
      "episode: 6700 R: 0.9434710743801653\n",
      "episode: 6800 R: 0\n",
      "episode: 6900 R: 0.9687603305785124\n",
      "episode: 7000 R: 0\n",
      "statistics: [('average_value', 0.4510181), ('average_entropy', 0.88090235), ('average_value_loss', 0.047280305395834145), ('average_policy_loss', -0.07672018570825458), ('n_updates', 38080), ('explained_variance', -0.05418449218556787)]\n",
      "episode: 7100 R: 0\n",
      "episode: 7200 R: 0\n",
      "episode: 7300 R: 0.9419834710743802\n",
      "episode: 7400 R: 0.9196694214876033\n",
      "episode: 7500 R: 0\n",
      "episode: 7600 R: 0\n",
      "episode: 7700 R: 0.9598347107438017\n",
      "episode: 7800 R: 0.9776859504132231\n",
      "episode: 7900 R: 0.9375206611570248\n",
      "episode: 8000 R: 0\n",
      "statistics: [('average_value', 0.4343819), ('average_entropy', 0.90800357), ('average_value_loss', 0.047342480039224026), ('average_policy_loss', -0.10594706915318966), ('n_updates', 42560), ('explained_variance', -0.09849007112321773)]\n",
      "episode: 8100 R: 0.9687603305785124\n",
      "episode: 8200 R: 0.952396694214876\n",
      "episode: 8300 R: 0\n",
      "episode: 8400 R: 0\n",
      "episode: 8500 R: 0.9791735537190083\n",
      "episode: 8600 R: 0.9836363636363636\n",
      "episode: 8700 R: 0\n",
      "episode: 8800 R: 0\n",
      "episode: 8900 R: 0.976198347107438\n",
      "episode: 9000 R: 0\n",
      "statistics: [('average_value', 0.42734838), ('average_entropy', 0.93604445), ('average_value_loss', 0.04375791155267507), ('average_policy_loss', -0.09980657028034329), ('n_updates', 47360), ('explained_variance', 0.028355120525037414)]\n",
      "episode: 9100 R: 0\n",
      "episode: 9200 R: 0.9538842975206612\n",
      "episode: 9300 R: 0\n",
      "episode: 9400 R: 0\n",
      "episode: 9500 R: 0.9390082644628099\n",
      "episode: 9600 R: 0\n",
      "episode: 9700 R: 0.9776859504132231\n",
      "episode: 9800 R: 0\n",
      "episode: 9900 R: 0.9866115702479339\n",
      "episode: 10000 R: 0\n",
      "statistics: [('average_value', 0.41919503), ('average_entropy', 0.95943063), ('average_value_loss', 0.06350314017385245), ('average_policy_loss', -0.09001651998609304), ('n_updates', 51520), ('explained_variance', -0.11036562510734038)]\n",
      "Finished.\n"
     ]
    }
   ],
   "source": [
    "n_episodes = 10000\n",
    "max_episode_len = 200\n",
    "for i in range(1, n_episodes + 1):\n",
    "    obs = env.reset()\n",
    "    obs = obs.flatten()\n",
    "    R = 0  # return (sum of rewards)\n",
    "    t = 0  # time step\n",
    "    while True:\n",
    "        # Uncomment to watch the behavior in a GUI window\n",
    "        # env.render()\n",
    "        action = agent_rec.act(obs)\n",
    "        obs, reward, done, _ = env.step(action)\n",
    "        obs = obs.flatten()\n",
    "        R += reward\n",
    "        t += 1\n",
    "        reset = t == max_episode_len\n",
    "        agent_rec.observe(obs, reward, done, reset)\n",
    "        if done or reset:\n",
    "            break\n",
    "    if i % 100 == 0:\n",
    "        print('episode:', i, 'R:', R)\n",
    "    if i % 1000 == 0:\n",
    "        print('statistics:', agent_rec.get_statistics())\n",
    "print('Finished.')"
   ]
  },
  {
   "cell_type": "markdown",
   "id": "7ca2c011",
   "metadata": {},
   "source": [
    "Test recurrent PPO agent"
   ]
  },
  {
   "cell_type": "code",
   "execution_count": 15,
   "id": "e10cbadc",
   "metadata": {},
   "outputs": [
    {
     "name": "stdout",
     "output_type": "stream",
     "text": [
      "evaluation episode: 0 R: 0.9598347107438017\n",
      "evaluation episode: 1 R: 0\n",
      "evaluation episode: 2 R: 0.9821487603305785\n",
      "evaluation episode: 3 R: 0.9747107438016529\n",
      "evaluation episode: 4 R: 0\n",
      "evaluation episode: 5 R: 0\n",
      "evaluation episode: 6 R: 0.903305785123967\n",
      "evaluation episode: 7 R: 0.988099173553719\n",
      "evaluation episode: 8 R: 0\n",
      "evaluation episode: 9 R: 0\n"
     ]
    }
   ],
   "source": [
    "with agent_rec.eval_mode():\n",
    "    for i in range(10):\n",
    "        obs = env.reset()\n",
    "        obs = obs.flatten()\n",
    "        R = 0\n",
    "        t = 0\n",
    "        while True:\n",
    "            # Uncomment to watch the behavior in a GUI window\n",
    "            # env.render()\n",
    "            action = agent_rec.act(obs)\n",
    "            obs, r, done, _ = env.step(action)\n",
    "            obs = obs.flatten()\n",
    "            R += r\n",
    "            t += 1\n",
    "            reset = t == 200\n",
    "            agent_rec.observe(obs, r, done, reset)\n",
    "            if done or reset:\n",
    "                break\n",
    "        print('evaluation episode:', i, 'R:', R)"
   ]
  },
  {
   "cell_type": "code",
   "execution_count": null,
   "id": "37c8fed4",
   "metadata": {},
   "outputs": [],
   "source": []
  }
 ],
 "metadata": {
  "kernelspec": {
   "display_name": "Python 3 (ipykernel)",
   "language": "python",
   "name": "python3"
  },
  "language_info": {
   "codemirror_mode": {
    "name": "ipython",
    "version": 3
   },
   "file_extension": ".py",
   "mimetype": "text/x-python",
   "name": "python",
   "nbconvert_exporter": "python",
   "pygments_lexer": "ipython3",
   "version": "3.7.11"
  }
 },
 "nbformat": 4,
 "nbformat_minor": 5
}
